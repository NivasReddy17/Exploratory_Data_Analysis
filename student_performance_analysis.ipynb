{
  "cells": [
    {
      "cell_type": "code",
      "execution_count": 2,
      "id": "87aae2ef",
      "metadata": {
        "execution": {
          "iopub.execute_input": "2022-05-03T11:59:06.698500Z",
          "iopub.status.busy": "2022-05-03T11:59:06.697962Z",
          "iopub.status.idle": "2022-05-03T11:59:07.828235Z",
          "shell.execute_reply": "2022-05-03T11:59:07.827408Z"
        },
        "papermill": {
          "duration": 1.168595,
          "end_time": "2022-05-03T11:59:07.830805",
          "exception": false,
          "start_time": "2022-05-03T11:59:06.662210",
          "status": "completed"
        },
        "tags": [],
        "id": "87aae2ef"
      },
      "outputs": [],
      "source": [
        "#importing libraries\n",
        "import pandas as pd\n",
        "import numpy as np\n",
        "import matplotlib.pyplot as plt\n",
        "import seaborn as sns"
      ]
    },
    {
      "cell_type": "code",
      "execution_count": null,
      "id": "f00a3446",
      "metadata": {
        "execution": {
          "iopub.execute_input": "2022-05-03T11:59:07.900656Z",
          "iopub.status.busy": "2022-05-03T11:59:07.900321Z",
          "iopub.status.idle": "2022-05-03T11:59:07.936562Z",
          "shell.execute_reply": "2022-05-03T11:59:07.935681Z"
        },
        "papermill": {
          "duration": 0.074715,
          "end_time": "2022-05-03T11:59:07.939403",
          "exception": false,
          "start_time": "2022-05-03T11:59:07.864688",
          "status": "completed"
        },
        "tags": [],
        "id": "f00a3446"
      },
      "outputs": [],
      "source": [
        "#read the dataset\n",
        "df = pd.read_csv(\"StudentsPerformance.csv\")\n",
        "df.head()"
      ]
    },
    {
      "cell_type": "code",
      "execution_count": null,
      "id": "561005bc",
      "metadata": {
        "execution": {
          "iopub.execute_input": "2022-05-03T11:59:08.009681Z",
          "iopub.status.busy": "2022-05-03T11:59:08.008806Z",
          "iopub.status.idle": "2022-05-03T11:59:08.042115Z",
          "shell.execute_reply": "2022-05-03T11:59:08.041443Z"
        },
        "papermill": {
          "duration": 0.071127,
          "end_time": "2022-05-03T11:59:08.044329",
          "exception": false,
          "start_time": "2022-05-03T11:59:07.973202",
          "status": "completed"
        },
        "tags": [],
        "id": "561005bc",
        "outputId": "16296444-4598-4bb8-fe47-c07d0b1b29f4"
      },
      "outputs": [
        {
          "data": {
            "text/html": [
              "<div>\n",
              "<style scoped>\n",
              "    .dataframe tbody tr th:only-of-type {\n",
              "        vertical-align: middle;\n",
              "    }\n",
              "\n",
              "    .dataframe tbody tr th {\n",
              "        vertical-align: top;\n",
              "    }\n",
              "\n",
              "    .dataframe thead th {\n",
              "        text-align: right;\n",
              "    }\n",
              "</style>\n",
              "<table border=\"1\" class=\"dataframe\">\n",
              "  <thead>\n",
              "    <tr style=\"text-align: right;\">\n",
              "      <th></th>\n",
              "      <th>math score</th>\n",
              "      <th>reading score</th>\n",
              "      <th>writing score</th>\n",
              "    </tr>\n",
              "  </thead>\n",
              "  <tbody>\n",
              "    <tr>\n",
              "      <th>count</th>\n",
              "      <td>1000.00000</td>\n",
              "      <td>1000.000000</td>\n",
              "      <td>1000.000000</td>\n",
              "    </tr>\n",
              "    <tr>\n",
              "      <th>mean</th>\n",
              "      <td>66.08900</td>\n",
              "      <td>69.169000</td>\n",
              "      <td>68.054000</td>\n",
              "    </tr>\n",
              "    <tr>\n",
              "      <th>std</th>\n",
              "      <td>15.16308</td>\n",
              "      <td>14.600192</td>\n",
              "      <td>15.195657</td>\n",
              "    </tr>\n",
              "    <tr>\n",
              "      <th>min</th>\n",
              "      <td>0.00000</td>\n",
              "      <td>17.000000</td>\n",
              "      <td>10.000000</td>\n",
              "    </tr>\n",
              "    <tr>\n",
              "      <th>25%</th>\n",
              "      <td>57.00000</td>\n",
              "      <td>59.000000</td>\n",
              "      <td>57.750000</td>\n",
              "    </tr>\n",
              "    <tr>\n",
              "      <th>50%</th>\n",
              "      <td>66.00000</td>\n",
              "      <td>70.000000</td>\n",
              "      <td>69.000000</td>\n",
              "    </tr>\n",
              "    <tr>\n",
              "      <th>75%</th>\n",
              "      <td>77.00000</td>\n",
              "      <td>79.000000</td>\n",
              "      <td>79.000000</td>\n",
              "    </tr>\n",
              "    <tr>\n",
              "      <th>max</th>\n",
              "      <td>100.00000</td>\n",
              "      <td>100.000000</td>\n",
              "      <td>100.000000</td>\n",
              "    </tr>\n",
              "  </tbody>\n",
              "</table>\n",
              "</div>"
            ],
            "text/plain": [
              "       math score  reading score  writing score\n",
              "count  1000.00000    1000.000000    1000.000000\n",
              "mean     66.08900      69.169000      68.054000\n",
              "std      15.16308      14.600192      15.195657\n",
              "min       0.00000      17.000000      10.000000\n",
              "25%      57.00000      59.000000      57.750000\n",
              "50%      66.00000      70.000000      69.000000\n",
              "75%      77.00000      79.000000      79.000000\n",
              "max     100.00000     100.000000     100.000000"
            ]
          },
          "execution_count": 4,
          "metadata": {},
          "output_type": "execute_result"
        }
      ],
      "source": [
        "df.describe()"
      ]
    },
    {
      "cell_type": "code",
      "execution_count": null,
      "id": "234a5227",
      "metadata": {
        "execution": {
          "iopub.execute_input": "2022-05-03T11:59:08.115481Z",
          "iopub.status.busy": "2022-05-03T11:59:08.114942Z",
          "iopub.status.idle": "2022-05-03T11:59:08.124380Z",
          "shell.execute_reply": "2022-05-03T11:59:08.123716Z"
        },
        "papermill": {
          "duration": 0.047696,
          "end_time": "2022-05-03T11:59:08.126444",
          "exception": false,
          "start_time": "2022-05-03T11:59:08.078748",
          "status": "completed"
        },
        "tags": [],
        "id": "234a5227",
        "outputId": "95065a4a-cfba-4bd0-865d-1b49c7bfefd4"
      },
      "outputs": [
        {
          "data": {
            "text/plain": [
              "gender                         2\n",
              "race/ethnicity                 5\n",
              "parental level of education    6\n",
              "lunch                          2\n",
              "test preparation course        2\n",
              "dtype: int64"
            ]
          },
          "execution_count": 5,
          "metadata": {},
          "output_type": "execute_result"
        }
      ],
      "source": [
        "df.select_dtypes(\"object\").nunique()"
      ]
    },
    {
      "cell_type": "code",
      "execution_count": null,
      "id": "b7e7978e",
      "metadata": {
        "execution": {
          "iopub.execute_input": "2022-05-03T11:59:08.200298Z",
          "iopub.status.busy": "2022-05-03T11:59:08.199712Z",
          "iopub.status.idle": "2022-05-03T11:59:08.751736Z",
          "shell.execute_reply": "2022-05-03T11:59:08.750645Z"
        },
        "papermill": {
          "duration": 0.590375,
          "end_time": "2022-05-03T11:59:08.753798",
          "exception": false,
          "start_time": "2022-05-03T11:59:08.163423",
          "status": "completed"
        },
        "tags": [],
        "id": "b7e7978e",
        "outputId": "7aeaba2b-b801-4226-ccc9-8f2a5490bad6"
      },
      "outputs": [
        {
          "name": "stderr",
          "output_type": "stream",
          "text": [
            "/opt/conda/lib/python3.7/site-packages/seaborn/distributions.py:2619: FutureWarning: `distplot` is a deprecated function and will be removed in a future version. Please adapt your code to use either `displot` (a figure-level function with similar flexibility) or `histplot` (an axes-level function for histograms).\n",
            "  warnings.warn(msg, FutureWarning)\n",
            "/opt/conda/lib/python3.7/site-packages/seaborn/distributions.py:2619: FutureWarning: `distplot` is a deprecated function and will be removed in a future version. Please adapt your code to use either `displot` (a figure-level function with similar flexibility) or `histplot` (an axes-level function for histograms).\n",
            "  warnings.warn(msg, FutureWarning)\n",
            "/opt/conda/lib/python3.7/site-packages/seaborn/distributions.py:2619: FutureWarning: `distplot` is a deprecated function and will be removed in a future version. Please adapt your code to use either `displot` (a figure-level function with similar flexibility) or `histplot` (an axes-level function for histograms).\n",
            "  warnings.warn(msg, FutureWarning)\n"
          ]
        },
        {
          "data": {
            "image/png": "[encoded data removed]",
            "text/plain": [
              "<Figure size 1080x360 with 3 Axes>"
            ]
          },
          "metadata": {
            "needs_background": "light"
          },
          "output_type": "display_data"
        }
      ],
      "source": [
        "#distplot of scores \n",
        "plt.figure(figsize=(15,5))\n",
        "plt.subplot(1,3,1)\n",
        "sns.distplot(df['math score'])\n",
        "plt.subplot(1,3,2)\n",
        "sns.distplot(df['reading score'])\n",
        "plt.subplot(1,3,3)\n",
        "sns.distplot(df['writing score'])\n",
        "plt.show()"
      ]
    },
    {
      "cell_type": "markdown",
      "id": "bbbbbd0d",
      "metadata": {
        "papermill": {
          "duration": 0.036238,
          "end_time": "2022-05-03T11:59:08.826847",
          "exception": false,
          "start_time": "2022-05-03T11:59:08.790609",
          "status": "completed"
        },
        "tags": [],
        "id": "bbbbbd0d"
      },
      "source": [
        "Conclusions from the distplot:Density of math score is highest between 60-80(around 70) whereas the densities of reading and writinf scores are higher around 80."
      ]
    },
    {
      "cell_type": "code",
      "execution_count": null,
      "id": "69131457",
      "metadata": {
        "execution": {
          "iopub.execute_input": "2022-05-03T11:59:08.910890Z",
          "iopub.status.busy": "2022-05-03T11:59:08.910420Z",
          "iopub.status.idle": "2022-05-03T11:59:08.917593Z",
          "shell.execute_reply": "2022-05-03T11:59:08.916805Z"
        },
        "papermill": {
          "duration": 0.053063,
          "end_time": "2022-05-03T11:59:08.919568",
          "exception": false,
          "start_time": "2022-05-03T11:59:08.866505",
          "status": "completed"
        },
        "tags": [],
        "id": "69131457",
        "outputId": "1fc8a0f4-e999-42f7-a81c-c9e08abfb9fe"
      },
      "outputs": [
        {
          "data": {
            "text/plain": [
              "group C    319\n",
              "group D    262\n",
              "group B    190\n",
              "group E    140\n",
              "group A     89\n",
              "Name: race/ethnicity, dtype: int64"
            ]
          },
          "execution_count": 7,
          "metadata": {},
          "output_type": "execute_result"
        }
      ],
      "source": [
        "df['race/ethnicity'].value_counts()"
      ]
    },
    {
      "cell_type": "code",
      "execution_count": null,
      "id": "86d400db",
      "metadata": {
        "execution": {
          "iopub.execute_input": "2022-05-03T11:59:08.995959Z",
          "iopub.status.busy": "2022-05-03T11:59:08.995452Z",
          "iopub.status.idle": "2022-05-03T11:59:09.535299Z",
          "shell.execute_reply": "2022-05-03T11:59:09.534400Z"
        },
        "papermill": {
          "duration": 0.580697,
          "end_time": "2022-05-03T11:59:09.537427",
          "exception": false,
          "start_time": "2022-05-03T11:59:08.956730",
          "status": "completed"
        },
        "tags": [],
        "id": "86d400db",
        "outputId": "c8bfb4d7-af00-4b07-bbfb-fa082e276b2d"
      },
      "outputs": [
        {
          "data": {
            "image/png": "[encoded data removed]",
            "text/plain": [
              "<Figure size 720x1080 with 3 Axes>"
            ]
          },
          "metadata": {
            "needs_background": "light"
          },
          "output_type": "display_data"
        }
      ],
      "source": [
        "#boxplot of race/ethnicity vs scores\n",
        "plt.figure(figsize=(10,15))\n",
        "plt.subplot(3,1,1)\n",
        "sns.boxplot(data=df,x='race/ethnicity',y='math score')\n",
        "plt.subplot(3,1,2)\n",
        "sns.boxplot(data=df,x='race/ethnicity',y='reading score')\n",
        "plt.subplot(3,1,3)\n",
        "sns.boxplot(data=df,x='race/ethnicity',y='writing score')\n",
        "plt.show()"
      ]
    },
    {
      "cell_type": "markdown",
      "id": "bd43ac07",
      "metadata": {
        "papermill": {
          "duration": 0.038068,
          "end_time": "2022-05-03T11:59:09.613923",
          "exception": false,
          "start_time": "2022-05-03T11:59:09.575855",
          "status": "completed"
        },
        "tags": [],
        "id": "bd43ac07"
      },
      "source": [
        "Conclusions from the boxplot: It can be clearly seen that the students from Group E scored better than the students from other groups in math.group E students are slightly ahead in reading scores as well. students from all the groups except group A performed equally in writing."
      ]
    },
    {
      "cell_type": "code",
      "execution_count": null,
      "id": "01cbd222",
      "metadata": {
        "execution": {
          "iopub.execute_input": "2022-05-03T11:59:09.691858Z",
          "iopub.status.busy": "2022-05-03T11:59:09.691558Z",
          "iopub.status.idle": "2022-05-03T11:59:09.707594Z",
          "shell.execute_reply": "2022-05-03T11:59:09.706810Z"
        },
        "papermill": {
          "duration": 0.057396,
          "end_time": "2022-05-03T11:59:09.709508",
          "exception": false,
          "start_time": "2022-05-03T11:59:09.652112",
          "status": "completed"
        },
        "tags": [],
        "id": "01cbd222",
        "outputId": "fdf0bfc5-9b40-4333-bab4-35904e013ea5"
      },
      "outputs": [
        {
          "data": {
            "text/html": [
              "<div>\n",
              "<style scoped>\n",
              "    .dataframe tbody tr th:only-of-type {\n",
              "        vertical-align: middle;\n",
              "    }\n",
              "\n",
              "    .dataframe tbody tr th {\n",
              "        vertical-align: top;\n",
              "    }\n",
              "\n",
              "    .dataframe thead th {\n",
              "        text-align: right;\n",
              "    }\n",
              "</style>\n",
              "<table border=\"1\" class=\"dataframe\">\n",
              "  <thead>\n",
              "    <tr style=\"text-align: right;\">\n",
              "      <th></th>\n",
              "      <th>gender</th>\n",
              "      <th>race/ethnicity</th>\n",
              "      <th>parental level of education</th>\n",
              "      <th>lunch</th>\n",
              "      <th>test preparation course</th>\n",
              "      <th>math score</th>\n",
              "      <th>reading score</th>\n",
              "      <th>writing score</th>\n",
              "      <th>average</th>\n",
              "    </tr>\n",
              "  </thead>\n",
              "  <tbody>\n",
              "    <tr>\n",
              "      <th>0</th>\n",
              "      <td>female</td>\n",
              "      <td>group B</td>\n",
              "      <td>bachelor's degree</td>\n",
              "      <td>standard</td>\n",
              "      <td>none</td>\n",
              "      <td>72</td>\n",
              "      <td>72</td>\n",
              "      <td>74</td>\n",
              "      <td>72.666667</td>\n",
              "    </tr>\n",
              "    <tr>\n",
              "      <th>1</th>\n",
              "      <td>female</td>\n",
              "      <td>group C</td>\n",
              "      <td>some college</td>\n",
              "      <td>standard</td>\n",
              "      <td>completed</td>\n",
              "      <td>69</td>\n",
              "      <td>90</td>\n",
              "      <td>88</td>\n",
              "      <td>82.333333</td>\n",
              "    </tr>\n",
              "    <tr>\n",
              "      <th>2</th>\n",
              "      <td>female</td>\n",
              "      <td>group B</td>\n",
              "      <td>master's degree</td>\n",
              "      <td>standard</td>\n",
              "      <td>none</td>\n",
              "      <td>90</td>\n",
              "      <td>95</td>\n",
              "      <td>93</td>\n",
              "      <td>92.666667</td>\n",
              "    </tr>\n",
              "    <tr>\n",
              "      <th>3</th>\n",
              "      <td>male</td>\n",
              "      <td>group A</td>\n",
              "      <td>associate's degree</td>\n",
              "      <td>free/reduced</td>\n",
              "      <td>none</td>\n",
              "      <td>47</td>\n",
              "      <td>57</td>\n",
              "      <td>44</td>\n",
              "      <td>49.333333</td>\n",
              "    </tr>\n",
              "    <tr>\n",
              "      <th>4</th>\n",
              "      <td>male</td>\n",
              "      <td>group C</td>\n",
              "      <td>some college</td>\n",
              "      <td>standard</td>\n",
              "      <td>none</td>\n",
              "      <td>76</td>\n",
              "      <td>78</td>\n",
              "      <td>75</td>\n",
              "      <td>76.333333</td>\n",
              "    </tr>\n",
              "  </tbody>\n",
              "</table>\n",
              "</div>"
            ],
            "text/plain": [
              "   gender race/ethnicity parental level of education         lunch  \\\n",
              "0  female        group B           bachelor's degree      standard   \n",
              "1  female        group C                some college      standard   \n",
              "2  female        group B             master's degree      standard   \n",
              "3    male        group A          associate's degree  free/reduced   \n",
              "4    male        group C                some college      standard   \n",
              "\n",
              "  test preparation course  math score  reading score  writing score    average  \n",
              "0                    none          72             72             74  72.666667  \n",
              "1               completed          69             90             88  82.333333  \n",
              "2                    none          90             95             93  92.666667  \n",
              "3                    none          47             57             44  49.333333  \n",
              "4                    none          76             78             75  76.333333  "
            ]
          },
          "execution_count": 9,
          "metadata": {},
          "output_type": "execute_result"
        }
      ],
      "source": [
        "#Let's create add column in the dataset and take the average of all 3 scores as readings.\n",
        "df['average']=(df['math score']+df['reading score']+df['writing score'])/3\n",
        "df.head()"
      ]
    },
    {
      "cell_type": "code",
      "execution_count": null,
      "id": "c47624f5",
      "metadata": {
        "execution": {
          "iopub.execute_input": "2022-05-03T11:59:09.790729Z",
          "iopub.status.busy": "2022-05-03T11:59:09.790235Z",
          "iopub.status.idle": "2022-05-03T11:59:09.806163Z",
          "shell.execute_reply": "2022-05-03T11:59:09.805564Z"
        },
        "papermill": {
          "duration": 0.057963,
          "end_time": "2022-05-03T11:59:09.808127",
          "exception": false,
          "start_time": "2022-05-03T11:59:09.750164",
          "status": "completed"
        },
        "tags": [],
        "id": "c47624f5",
        "outputId": "50c386e6-7525-48eb-c351-dab90c4cbfa9"
      },
      "outputs": [
        {
          "data": {
            "text/html": [
              "<div>\n",
              "<style scoped>\n",
              "    .dataframe tbody tr th:only-of-type {\n",
              "        vertical-align: middle;\n",
              "    }\n",
              "\n",
              "    .dataframe tbody tr th {\n",
              "        vertical-align: top;\n",
              "    }\n",
              "\n",
              "    .dataframe thead th {\n",
              "        text-align: right;\n",
              "    }\n",
              "</style>\n",
              "<table border=\"1\" class=\"dataframe\">\n",
              "  <thead>\n",
              "    <tr style=\"text-align: right;\">\n",
              "      <th></th>\n",
              "      <th>gender</th>\n",
              "      <th>race/ethnicity</th>\n",
              "      <th>parental level of education</th>\n",
              "      <th>lunch</th>\n",
              "      <th>test preparation course</th>\n",
              "      <th>math score</th>\n",
              "      <th>reading score</th>\n",
              "      <th>writing score</th>\n",
              "      <th>average</th>\n",
              "      <th>PASS/FAIL</th>\n",
              "    </tr>\n",
              "  </thead>\n",
              "  <tbody>\n",
              "    <tr>\n",
              "      <th>0</th>\n",
              "      <td>female</td>\n",
              "      <td>group B</td>\n",
              "      <td>bachelor's degree</td>\n",
              "      <td>standard</td>\n",
              "      <td>none</td>\n",
              "      <td>72</td>\n",
              "      <td>72</td>\n",
              "      <td>74</td>\n",
              "      <td>72.666667</td>\n",
              "      <td>PASS</td>\n",
              "    </tr>\n",
              "    <tr>\n",
              "      <th>1</th>\n",
              "      <td>female</td>\n",
              "      <td>group C</td>\n",
              "      <td>some college</td>\n",
              "      <td>standard</td>\n",
              "      <td>completed</td>\n",
              "      <td>69</td>\n",
              "      <td>90</td>\n",
              "      <td>88</td>\n",
              "      <td>82.333333</td>\n",
              "      <td>PASS</td>\n",
              "    </tr>\n",
              "    <tr>\n",
              "      <th>2</th>\n",
              "      <td>female</td>\n",
              "      <td>group B</td>\n",
              "      <td>master's degree</td>\n",
              "      <td>standard</td>\n",
              "      <td>none</td>\n",
              "      <td>90</td>\n",
              "      <td>95</td>\n",
              "      <td>93</td>\n",
              "      <td>92.666667</td>\n",
              "      <td>PASS</td>\n",
              "    </tr>\n",
              "    <tr>\n",
              "      <th>3</th>\n",
              "      <td>male</td>\n",
              "      <td>group A</td>\n",
              "      <td>associate's degree</td>\n",
              "      <td>free/reduced</td>\n",
              "      <td>none</td>\n",
              "      <td>47</td>\n",
              "      <td>57</td>\n",
              "      <td>44</td>\n",
              "      <td>49.333333</td>\n",
              "      <td>FAIL</td>\n",
              "    </tr>\n",
              "    <tr>\n",
              "      <th>4</th>\n",
              "      <td>male</td>\n",
              "      <td>group C</td>\n",
              "      <td>some college</td>\n",
              "      <td>standard</td>\n",
              "      <td>none</td>\n",
              "      <td>76</td>\n",
              "      <td>78</td>\n",
              "      <td>75</td>\n",
              "      <td>76.333333</td>\n",
              "      <td>PASS</td>\n",
              "    </tr>\n",
              "  </tbody>\n",
              "</table>\n",
              "</div>"
            ],
            "text/plain": [
              "   gender race/ethnicity parental level of education         lunch  \\\n",
              "0  female        group B           bachelor's degree      standard   \n",
              "1  female        group C                some college      standard   \n",
              "2  female        group B             master's degree      standard   \n",
              "3    male        group A          associate's degree  free/reduced   \n",
              "4    male        group C                some college      standard   \n",
              "\n",
              "  test preparation course  math score  reading score  writing score  \\\n",
              "0                    none          72             72             74   \n",
              "1               completed          69             90             88   \n",
              "2                    none          90             95             93   \n",
              "3                    none          47             57             44   \n",
              "4                    none          76             78             75   \n",
              "\n",
              "     average PASS/FAIL  \n",
              "0  72.666667      PASS  \n",
              "1  82.333333      PASS  \n",
              "2  92.666667      PASS  \n",
              "3  49.333333      FAIL  \n",
              "4  76.333333      PASS  "
            ]
          },
          "execution_count": 10,
          "metadata": {},
          "output_type": "execute_result"
        }
      ],
      "source": [
        "#let the minimum marks to pass the exam is 50\n",
        "#then let's add another column 'PASS/FAIL' to check whether a student passed or failed in the exam\n",
        "df['PASS/FAIL']=np.where(df['average']>50,'PASS','FAIL')\n",
        "df.head()"
      ]
    },
    {
      "cell_type": "code",
      "execution_count": null,
      "id": "e424afa1",
      "metadata": {
        "execution": {
          "iopub.execute_input": "2022-05-03T11:59:09.889899Z",
          "iopub.status.busy": "2022-05-03T11:59:09.889396Z",
          "iopub.status.idle": "2022-05-03T11:59:09.895957Z",
          "shell.execute_reply": "2022-05-03T11:59:09.895401Z"
        },
        "papermill": {
          "duration": 0.049741,
          "end_time": "2022-05-03T11:59:09.897809",
          "exception": false,
          "start_time": "2022-05-03T11:59:09.848068",
          "status": "completed"
        },
        "tags": [],
        "id": "e424afa1",
        "outputId": "22cf63cd-6627-47f4-b1ff-ccc2c4aedc7f"
      },
      "outputs": [
        {
          "data": {
            "text/plain": [
              "PASS    891\n",
              "FAIL    109\n",
              "Name: PASS/FAIL, dtype: int64"
            ]
          },
          "execution_count": 11,
          "metadata": {},
          "output_type": "execute_result"
        }
      ],
      "source": [
        "df['PASS/FAIL'].value_counts()"
      ]
    },
    {
      "cell_type": "code",
      "execution_count": null,
      "id": "c58e3f2f",
      "metadata": {
        "execution": {
          "iopub.execute_input": "2022-05-03T11:59:09.980419Z",
          "iopub.status.busy": "2022-05-03T11:59:09.980056Z",
          "iopub.status.idle": "2022-05-03T11:59:09.988689Z",
          "shell.execute_reply": "2022-05-03T11:59:09.987946Z"
        },
        "papermill": {
          "duration": 0.052011,
          "end_time": "2022-05-03T11:59:09.990499",
          "exception": false,
          "start_time": "2022-05-03T11:59:09.938488",
          "status": "completed"
        },
        "tags": [],
        "id": "c58e3f2f",
        "outputId": "5f91869c-824e-4562-8fee-795fca6c59bf"
      },
      "outputs": [
        {
          "data": {
            "text/plain": [
              "474"
            ]
          },
          "execution_count": 12,
          "metadata": {},
          "output_type": "execute_result"
        }
      ],
      "source": [
        "df[(df['PASS/FAIL']=='PASS')&(df['gender']=='female')]['PASS/FAIL'].count()"
      ]
    },
    {
      "cell_type": "code",
      "execution_count": null,
      "id": "0109dbd5",
      "metadata": {
        "execution": {
          "iopub.execute_input": "2022-05-03T11:59:10.075733Z",
          "iopub.status.busy": "2022-05-03T11:59:10.075046Z",
          "iopub.status.idle": "2022-05-03T11:59:10.083082Z",
          "shell.execute_reply": "2022-05-03T11:59:10.082431Z"
        },
        "papermill": {
          "duration": 0.052669,
          "end_time": "2022-05-03T11:59:10.085208",
          "exception": false,
          "start_time": "2022-05-03T11:59:10.032539",
          "status": "completed"
        },
        "tags": [],
        "id": "0109dbd5",
        "outputId": "a1d5c229-ddce-490a-8a5a-e1ff1b92c01a"
      },
      "outputs": [
        {
          "data": {
            "text/plain": [
              "417"
            ]
          },
          "execution_count": 13,
          "metadata": {},
          "output_type": "execute_result"
        }
      ],
      "source": [
        "df[(df['PASS/FAIL']=='PASS')&(df['gender']=='male')]['PASS/FAIL'].count()"
      ]
    },
    {
      "cell_type": "code",
      "execution_count": null,
      "id": "0876582d",
      "metadata": {
        "execution": {
          "iopub.execute_input": "2022-05-03T11:59:10.170375Z",
          "iopub.status.busy": "2022-05-03T11:59:10.169752Z",
          "iopub.status.idle": "2022-05-03T11:59:10.173878Z",
          "shell.execute_reply": "2022-05-03T11:59:10.173245Z"
        },
        "papermill": {
          "duration": 0.049547,
          "end_time": "2022-05-03T11:59:10.176008",
          "exception": false,
          "start_time": "2022-05-03T11:59:10.126461",
          "status": "completed"
        },
        "tags": [],
        "id": "0876582d"
      },
      "outputs": [],
      "source": [
        "P=(891/1000)*100\n",
        "FP=(474/518)*100\n",
        "MP=(418/482)*100"
      ]
    },
    {
      "cell_type": "code",
      "execution_count": null,
      "id": "2a25d51d",
      "metadata": {
        "execution": {
          "iopub.execute_input": "2022-05-03T11:59:10.260530Z",
          "iopub.status.busy": "2022-05-03T11:59:10.259929Z",
          "iopub.status.idle": "2022-05-03T11:59:10.266352Z",
          "shell.execute_reply": "2022-05-03T11:59:10.265018Z"
        },
        "papermill": {
          "duration": 0.051506,
          "end_time": "2022-05-03T11:59:10.268450",
          "exception": false,
          "start_time": "2022-05-03T11:59:10.216944",
          "status": "completed"
        },
        "tags": [],
        "id": "2a25d51d",
        "outputId": "9547a600-8386-41f0-99d1-f9b3d5d333a9"
      },
      "outputs": [
        {
          "name": "stdout",
          "output_type": "stream",
          "text": [
            "Percentage of total students passed: 89.1 %\n",
            "Percentage of total female students passed: 91.5057915057915 %\n",
            "Percentage of total male students passed: 86.72199170124482 %\n"
          ]
        }
      ],
      "source": [
        "print('Percentage of total students passed:',P,'%')\n",
        "print('Percentage of total female students passed:',FP,'%')\n",
        "print('Percentage of total male students passed:',MP,'%')"
      ]
    },
    {
      "cell_type": "code",
      "execution_count": null,
      "id": "56b68126",
      "metadata": {
        "execution": {
          "iopub.execute_input": "2022-05-03T11:59:10.353004Z",
          "iopub.status.busy": "2022-05-03T11:59:10.352455Z",
          "iopub.status.idle": "2022-05-03T11:59:10.374487Z",
          "shell.execute_reply": "2022-05-03T11:59:10.373535Z"
        },
        "papermill": {
          "duration": 0.066907,
          "end_time": "2022-05-03T11:59:10.376540",
          "exception": false,
          "start_time": "2022-05-03T11:59:10.309633",
          "status": "completed"
        },
        "tags": [],
        "id": "56b68126",
        "outputId": "83c1aaab-4373-4d2a-b038-3cb1389c2207"
      },
      "outputs": [
        {
          "data": {
            "text/html": [
              "<div>\n",
              "<style scoped>\n",
              "    .dataframe tbody tr th:only-of-type {\n",
              "        vertical-align: middle;\n",
              "    }\n",
              "\n",
              "    .dataframe tbody tr th {\n",
              "        vertical-align: top;\n",
              "    }\n",
              "\n",
              "    .dataframe thead th {\n",
              "        text-align: right;\n",
              "    }\n",
              "</style>\n",
              "<table border=\"1\" class=\"dataframe\">\n",
              "  <thead>\n",
              "    <tr style=\"text-align: right;\">\n",
              "      <th></th>\n",
              "      <th>gender</th>\n",
              "      <th>race/ethnicity</th>\n",
              "      <th>parental level of education</th>\n",
              "      <th>lunch</th>\n",
              "      <th>test preparation course</th>\n",
              "      <th>math score</th>\n",
              "      <th>reading score</th>\n",
              "      <th>writing score</th>\n",
              "      <th>average</th>\n",
              "      <th>PASS/FAIL</th>\n",
              "      <th>grades</th>\n",
              "    </tr>\n",
              "  </thead>\n",
              "  <tbody>\n",
              "    <tr>\n",
              "      <th>0</th>\n",
              "      <td>female</td>\n",
              "      <td>group B</td>\n",
              "      <td>bachelor's degree</td>\n",
              "      <td>standard</td>\n",
              "      <td>none</td>\n",
              "      <td>72</td>\n",
              "      <td>72</td>\n",
              "      <td>74</td>\n",
              "      <td>72.666667</td>\n",
              "      <td>PASS</td>\n",
              "      <td>C</td>\n",
              "    </tr>\n",
              "    <tr>\n",
              "      <th>1</th>\n",
              "      <td>female</td>\n",
              "      <td>group C</td>\n",
              "      <td>some college</td>\n",
              "      <td>standard</td>\n",
              "      <td>completed</td>\n",
              "      <td>69</td>\n",
              "      <td>90</td>\n",
              "      <td>88</td>\n",
              "      <td>82.333333</td>\n",
              "      <td>PASS</td>\n",
              "      <td>B</td>\n",
              "    </tr>\n",
              "    <tr>\n",
              "      <th>2</th>\n",
              "      <td>female</td>\n",
              "      <td>group B</td>\n",
              "      <td>master's degree</td>\n",
              "      <td>standard</td>\n",
              "      <td>none</td>\n",
              "      <td>90</td>\n",
              "      <td>95</td>\n",
              "      <td>93</td>\n",
              "      <td>92.666667</td>\n",
              "      <td>PASS</td>\n",
              "      <td>A</td>\n",
              "    </tr>\n",
              "    <tr>\n",
              "      <th>3</th>\n",
              "      <td>male</td>\n",
              "      <td>group A</td>\n",
              "      <td>associate's degree</td>\n",
              "      <td>free/reduced</td>\n",
              "      <td>none</td>\n",
              "      <td>47</td>\n",
              "      <td>57</td>\n",
              "      <td>44</td>\n",
              "      <td>49.333333</td>\n",
              "      <td>FAIL</td>\n",
              "      <td>F</td>\n",
              "    </tr>\n",
              "    <tr>\n",
              "      <th>4</th>\n",
              "      <td>male</td>\n",
              "      <td>group C</td>\n",
              "      <td>some college</td>\n",
              "      <td>standard</td>\n",
              "      <td>none</td>\n",
              "      <td>76</td>\n",
              "      <td>78</td>\n",
              "      <td>75</td>\n",
              "      <td>76.333333</td>\n",
              "      <td>PASS</td>\n",
              "      <td>C</td>\n",
              "    </tr>\n",
              "  </tbody>\n",
              "</table>\n",
              "</div>"
            ],
            "text/plain": [
              "   gender race/ethnicity parental level of education         lunch  \\\n",
              "0  female        group B           bachelor's degree      standard   \n",
              "1  female        group C                some college      standard   \n",
              "2  female        group B             master's degree      standard   \n",
              "3    male        group A          associate's degree  free/reduced   \n",
              "4    male        group C                some college      standard   \n",
              "\n",
              "  test preparation course  math score  reading score  writing score  \\\n",
              "0                    none          72             72             74   \n",
              "1               completed          69             90             88   \n",
              "2                    none          90             95             93   \n",
              "3                    none          47             57             44   \n",
              "4                    none          76             78             75   \n",
              "\n",
              "     average PASS/FAIL grades  \n",
              "0  72.666667      PASS      C  \n",
              "1  82.333333      PASS      B  \n",
              "2  92.666667      PASS      A  \n",
              "3  49.333333      FAIL      F  \n",
              "4  76.333333      PASS      C  "
            ]
          },
          "execution_count": 16,
          "metadata": {},
          "output_type": "execute_result"
        }
      ],
      "source": [
        "#now let's give grades to each student based on their average score.\n",
        "#add another column to the dataset to note student's grades\n",
        "conditions=[(df['average']>=90),\n",
        "            (df['average']>=80) & (df['average']<90),\n",
        "            (df['average']>=70) & (df['average']<80),\n",
        "            (df['average']>=60) & (df['average']<70),\n",
        "            (df['average']>=50) & (df['average']<60),\n",
        "            (df['average']<50)]\n",
        "\n",
        "values=['A','B','C','D','E','F']\n",
        "df['grades']=np.select(conditions,values)\n",
        "df.head()"
      ]
    },
    {
      "cell_type": "code",
      "execution_count": null,
      "id": "f115fa05",
      "metadata": {
        "execution": {
          "iopub.execute_input": "2022-05-03T11:59:10.461632Z",
          "iopub.status.busy": "2022-05-03T11:59:10.461355Z",
          "iopub.status.idle": "2022-05-03T11:59:10.469170Z",
          "shell.execute_reply": "2022-05-03T11:59:10.468259Z"
        },
        "papermill": {
          "duration": 0.053193,
          "end_time": "2022-05-03T11:59:10.471238",
          "exception": false,
          "start_time": "2022-05-03T11:59:10.418045",
          "status": "completed"
        },
        "tags": [],
        "id": "f115fa05",
        "outputId": "64b10716-0d69-41ca-d5a8-83ff1f56fe59"
      },
      "outputs": [
        {
          "data": {
            "text/plain": [
              "C    261\n",
              "D    256\n",
              "E    182\n",
              "B    146\n",
              "F    103\n",
              "A     52\n",
              "Name: grades, dtype: int64"
            ]
          },
          "execution_count": 17,
          "metadata": {},
          "output_type": "execute_result"
        }
      ],
      "source": [
        "df['grades'].value_counts()"
      ]
    },
    {
      "cell_type": "code",
      "execution_count": null,
      "id": "82f6cdc2",
      "metadata": {
        "execution": {
          "iopub.execute_input": "2022-05-03T11:59:10.558365Z",
          "iopub.status.busy": "2022-05-03T11:59:10.558073Z",
          "iopub.status.idle": "2022-05-03T11:59:10.563980Z",
          "shell.execute_reply": "2022-05-03T11:59:10.562811Z"
        },
        "papermill": {
          "duration": 0.051522,
          "end_time": "2022-05-03T11:59:10.566054",
          "exception": false,
          "start_time": "2022-05-03T11:59:10.514532",
          "status": "completed"
        },
        "tags": [],
        "id": "82f6cdc2",
        "outputId": "230ff2ef-38b1-4d34-9761-f81c297d97b3"
      },
      "outputs": [
        {
          "name": "stdout",
          "output_type": "stream",
          "text": [
            "Percentage of total students who recieved A grade: 5.2 %\n"
          ]
        }
      ],
      "source": [
        "A=(52/1000)*100\n",
        "print('Percentage of total students who recieved A grade:',A,'%')"
      ]
    },
    {
      "cell_type": "code",
      "execution_count": null,
      "id": "e5be469e",
      "metadata": {
        "execution": {
          "iopub.execute_input": "2022-05-03T11:59:10.653302Z",
          "iopub.status.busy": "2022-05-03T11:59:10.653030Z",
          "iopub.status.idle": "2022-05-03T11:59:11.170270Z",
          "shell.execute_reply": "2022-05-03T11:59:11.168992Z"
        },
        "papermill": {
          "duration": 0.563162,
          "end_time": "2022-05-03T11:59:11.172643",
          "exception": false,
          "start_time": "2022-05-03T11:59:10.609481",
          "status": "completed"
        },
        "tags": [],
        "id": "e5be469e",
        "outputId": "4abdc3fa-b768-4049-931b-250d878e446d"
      },
      "outputs": [
        {
          "data": {
            "image/png": "[encoded data removed]",
            "text/plain": [
              "<Figure size 1440x360 with 3 Axes>"
            ]
          },
          "metadata": {
            "needs_background": "light"
          },
          "output_type": "display_data"
        }
      ],
      "source": [
        "#boxplots of lunch vs scores\n",
        "plt.figure(figsize=(20,5))\n",
        "plt.subplot(1,3,1)\n",
        "sns.boxplot(data=df,x='lunch',y='math score')\n",
        "plt.subplot(1,3,2)\n",
        "sns.boxplot(data=df,x='lunch',y='reading score')\n",
        "plt.subplot(1,3,3)\n",
        "sns.boxplot(data=df,x='lunch',y='writing score')\n",
        "plt.show()"
      ]
    },
    {
      "cell_type": "markdown",
      "id": "8aad2b39",
      "metadata": {
        "papermill": {
          "duration": 0.04319,
          "end_time": "2022-05-03T11:59:11.260919",
          "exception": false,
          "start_time": "2022-05-03T11:59:11.217729",
          "status": "completed"
        },
        "tags": [],
        "id": "8aad2b39"
      },
      "source": [
        "It can be observed that students having standard lunch scored better than students having free/reduced lunch"
      ]
    },
    {
      "cell_type": "code",
      "execution_count": null,
      "id": "8b28bf70",
      "metadata": {
        "execution": {
          "iopub.execute_input": "2022-05-03T11:59:11.349618Z",
          "iopub.status.busy": "2022-05-03T11:59:11.349147Z",
          "iopub.status.idle": "2022-05-03T11:59:12.856413Z",
          "shell.execute_reply": "2022-05-03T11:59:12.855539Z"
        },
        "papermill": {
          "duration": 1.554056,
          "end_time": "2022-05-03T11:59:12.858630",
          "exception": false,
          "start_time": "2022-05-03T11:59:11.304574",
          "status": "completed"
        },
        "tags": [],
        "id": "8b28bf70",
        "outputId": "17fd25f4-6cc1-42b7-ae33-b5b1e0a590e0"
      },
      "outputs": [
        {
          "data": {
            "image/png": "[encoded data removed]",
            "text/plain": [
              "<Figure size 1440x360 with 3 Axes>"
            ]
          },
          "metadata": {
            "needs_background": "light"
          },
          "output_type": "display_data"
        }
      ],
      "source": [
        "plt.figure(figsize=(20,5))\n",
        "plt.subplot(1,3,1)\n",
        "plt.title('race/ethnicity vs average')\n",
        "sns.barplot(data=df,x='race/ethnicity',y='average',hue='gender')\n",
        "plt.subplot(1,3,2)\n",
        "plt.title('education vs average')\n",
        "sns.barplot(data=df,x='parental level of education',y='average',hue='gender')\n",
        "plt.xticks(rotation=60)\n",
        "plt.subplot(1,3,3)\n",
        "plt.title('lunch vs average')\n",
        "sns.barplot(data=df,x='lunch',y='average',hue='gender')\n",
        "plt.show()"
      ]
    },
    {
      "cell_type": "code",
      "execution_count": null,
      "id": "de641aed",
      "metadata": {
        "execution": {
          "iopub.execute_input": "2022-05-03T11:59:12.950274Z",
          "iopub.status.busy": "2022-05-03T11:59:12.949982Z",
          "iopub.status.idle": "2022-05-03T11:59:12.960244Z",
          "shell.execute_reply": "2022-05-03T11:59:12.959402Z"
        },
        "papermill": {
          "duration": 0.058817,
          "end_time": "2022-05-03T11:59:12.962416",
          "exception": false,
          "start_time": "2022-05-03T11:59:12.903599",
          "status": "completed"
        },
        "tags": [],
        "id": "de641aed",
        "outputId": "2ebbbc58-ca18-495c-954a-2c07a54d9f1d"
      },
      "outputs": [
        {
          "data": {
            "text/plain": [
              "none         642\n",
              "completed    358\n",
              "Name: test preparation course, dtype: int64"
            ]
          },
          "execution_count": 21,
          "metadata": {},
          "output_type": "execute_result"
        }
      ],
      "source": [
        "df['test preparation course'].value_counts()"
      ]
    },
    {
      "cell_type": "code",
      "execution_count": null,
      "id": "41867f92",
      "metadata": {
        "execution": {
          "iopub.execute_input": "2022-05-03T11:59:13.062787Z",
          "iopub.status.busy": "2022-05-03T11:59:13.062161Z",
          "iopub.status.idle": "2022-05-03T11:59:13.070968Z",
          "shell.execute_reply": "2022-05-03T11:59:13.070324Z"
        },
        "papermill": {
          "duration": 0.058432,
          "end_time": "2022-05-03T11:59:13.072721",
          "exception": false,
          "start_time": "2022-05-03T11:59:13.014289",
          "status": "completed"
        },
        "tags": [],
        "id": "41867f92",
        "outputId": "f40b9fd8-6a44-4682-f935-b6b9482bf257"
      },
      "outputs": [
        {
          "data": {
            "text/plain": [
              "338"
            ]
          },
          "execution_count": 22,
          "metadata": {},
          "output_type": "execute_result"
        }
      ],
      "source": [
        "df[(df['PASS/FAIL']=='PASS')&(df['test preparation course']=='completed')]['PASS/FAIL'].count()"
      ]
    },
    {
      "cell_type": "code",
      "execution_count": null,
      "id": "3816dc80",
      "metadata": {
        "execution": {
          "iopub.execute_input": "2022-05-03T11:59:13.165798Z",
          "iopub.status.busy": "2022-05-03T11:59:13.165457Z",
          "iopub.status.idle": "2022-05-03T11:59:13.175148Z",
          "shell.execute_reply": "2022-05-03T11:59:13.174173Z"
        },
        "papermill": {
          "duration": 0.058532,
          "end_time": "2022-05-03T11:59:13.177180",
          "exception": false,
          "start_time": "2022-05-03T11:59:13.118648",
          "status": "completed"
        },
        "tags": [],
        "id": "3816dc80",
        "outputId": "3dee79b5-775e-41f1-baa3-a75a9a99085e"
      },
      "outputs": [
        {
          "data": {
            "text/plain": [
              "553"
            ]
          },
          "execution_count": 23,
          "metadata": {},
          "output_type": "execute_result"
        }
      ],
      "source": [
        "df[(df['PASS/FAIL']=='PASS')&(df['test preparation course']=='none')]['PASS/FAIL'].count()"
      ]
    },
    {
      "cell_type": "code",
      "execution_count": null,
      "id": "5a824f8e",
      "metadata": {
        "execution": {
          "iopub.execute_input": "2022-05-03T11:59:13.273675Z",
          "iopub.status.busy": "2022-05-03T11:59:13.273383Z",
          "iopub.status.idle": "2022-05-03T11:59:13.278155Z",
          "shell.execute_reply": "2022-05-03T11:59:13.277095Z"
        },
        "papermill": {
          "duration": 0.055721,
          "end_time": "2022-05-03T11:59:13.280195",
          "exception": false,
          "start_time": "2022-05-03T11:59:13.224474",
          "status": "completed"
        },
        "tags": [],
        "id": "5a824f8e"
      },
      "outputs": [],
      "source": [
        "C=(358/1000)*100\n",
        "CP=(338/358)*100\n",
        "NP=(553/642)*100"
      ]
    },
    {
      "cell_type": "code",
      "execution_count": null,
      "id": "0cb6653f",
      "metadata": {
        "execution": {
          "iopub.execute_input": "2022-05-03T11:59:13.377826Z",
          "iopub.status.busy": "2022-05-03T11:59:13.377533Z",
          "iopub.status.idle": "2022-05-03T11:59:13.384483Z",
          "shell.execute_reply": "2022-05-03T11:59:13.383101Z"
        },
        "papermill": {
          "duration": 0.057969,
          "end_time": "2022-05-03T11:59:13.386629",
          "exception": false,
          "start_time": "2022-05-03T11:59:13.328660",
          "status": "completed"
        },
        "tags": [],
        "id": "0cb6653f",
        "outputId": "6e71bdc9-bcef-45ab-e94e-a32d44befa2d"
      },
      "outputs": [
        {
          "name": "stdout",
          "output_type": "stream",
          "text": [
            "Percentage of total students who completed test preparation course: 35.8 %\n",
            "Percentage of total students who passed after completing test preparation course: 94.41340782122904 %\n",
            "Percentage of total students who passed with no test preparation course: 86.13707165109035 %\n"
          ]
        }
      ],
      "source": [
        "print('Percentage of total students who completed test preparation course:',C,'%')\n",
        "print('Percentage of total students who passed after completing test preparation course:',CP,'%')\n",
        "print('Percentage of total students who passed with no test preparation course:',NP,'%')"
      ]
    },
    {
      "cell_type": "code",
      "execution_count": null,
      "id": "7f87c050",
      "metadata": {
        "execution": {
          "iopub.execute_input": "2022-05-03T11:59:13.483319Z",
          "iopub.status.busy": "2022-05-03T11:59:13.482446Z",
          "iopub.status.idle": "2022-05-03T11:59:13.789315Z",
          "shell.execute_reply": "2022-05-03T11:59:13.788241Z"
        },
        "papermill": {
          "duration": 0.357727,
          "end_time": "2022-05-03T11:59:13.791799",
          "exception": false,
          "start_time": "2022-05-03T11:59:13.434072",
          "status": "completed"
        },
        "tags": [],
        "id": "7f87c050",
        "outputId": "1a355c44-2eb4-4803-8132-0c1d86357dd7"
      },
      "outputs": [
        {
          "data": {
            "image/png": "[encoded data removed]",
            "text/plain": [
              "<Figure size 1080x360 with 2 Axes>"
            ]
          },
          "metadata": {
            "needs_background": "light"
          },
          "output_type": "display_data"
        }
      ],
      "source": [
        "plt.figure(figsize=(15,5))\n",
        "plt.subplot(1,2,1)\n",
        "sns.countplot(data=df,x='PASS/FAIL',hue='test preparation course')\n",
        "plt.subplot(1,2,2)\n",
        "sns.boxplot(data=df,x='test preparation course',y='math score')\n",
        "plt.show()"
      ]
    },
    {
      "cell_type": "code",
      "execution_count": null,
      "id": "9c4573e0",
      "metadata": {
        "execution": {
          "iopub.execute_input": "2022-05-03T11:59:13.892950Z",
          "iopub.status.busy": "2022-05-03T11:59:13.892356Z",
          "iopub.status.idle": "2022-05-03T11:59:14.129804Z",
          "shell.execute_reply": "2022-05-03T11:59:14.128973Z"
        },
        "papermill": {
          "duration": 0.290752,
          "end_time": "2022-05-03T11:59:14.132054",
          "exception": false,
          "start_time": "2022-05-03T11:59:13.841302",
          "status": "completed"
        },
        "tags": [],
        "id": "9c4573e0",
        "outputId": "0b3df44d-3f94-4d47-f373-63854828b08c"
      },
      "outputs": [
        {
          "data": {
            "image/png": "[encoded data removed]",
            "text/plain": [
              "<Figure size 432x288 with 1 Axes>"
            ]
          },
          "metadata": {
            "needs_background": "light"
          },
          "output_type": "display_data"
        }
      ],
      "source": [
        "sns.countplot(data=df,x='test preparation course',hue='grades')\n",
        "plt.show()"
      ]
    },
    {
      "cell_type": "code",
      "execution_count": null,
      "id": "9ccd8988",
      "metadata": {
        "execution": {
          "iopub.execute_input": "2022-05-03T11:59:14.235105Z",
          "iopub.status.busy": "2022-05-03T11:59:14.234238Z",
          "iopub.status.idle": "2022-05-03T11:59:14.242539Z",
          "shell.execute_reply": "2022-05-03T11:59:14.241850Z"
        },
        "papermill": {
          "duration": 0.06171,
          "end_time": "2022-05-03T11:59:14.244555",
          "exception": false,
          "start_time": "2022-05-03T11:59:14.182845",
          "status": "completed"
        },
        "tags": [],
        "id": "9ccd8988",
        "outputId": "a6269ac9-9feb-41b2-9663-030d272d4e75"
      },
      "outputs": [
        {
          "data": {
            "text/plain": [
              "35"
            ]
          },
          "execution_count": 28,
          "metadata": {},
          "output_type": "execute_result"
        }
      ],
      "source": [
        "df[(df['grades']=='A')&(df['test preparation course']=='completed')]['grades'].count()"
      ]
    },
    {
      "cell_type": "code",
      "execution_count": null,
      "id": "6f3d340d",
      "metadata": {
        "execution": {
          "iopub.execute_input": "2022-05-03T11:59:14.350401Z",
          "iopub.status.busy": "2022-05-03T11:59:14.349908Z",
          "iopub.status.idle": "2022-05-03T11:59:14.356972Z",
          "shell.execute_reply": "2022-05-03T11:59:14.356400Z"
        },
        "papermill": {
          "duration": 0.062701,
          "end_time": "2022-05-03T11:59:14.359206",
          "exception": false,
          "start_time": "2022-05-03T11:59:14.296505",
          "status": "completed"
        },
        "tags": [],
        "id": "6f3d340d",
        "outputId": "fc917bb9-d028-41a4-f57d-a40831b0fea3"
      },
      "outputs": [
        {
          "data": {
            "text/plain": [
              "17"
            ]
          },
          "execution_count": 29,
          "metadata": {},
          "output_type": "execute_result"
        }
      ],
      "source": [
        "df[(df['grades']=='A')&(df['test preparation course']=='none')]['grades'].count()"
      ]
    },
    {
      "cell_type": "code",
      "execution_count": null,
      "id": "4d2a9f8b",
      "metadata": {
        "execution": {
          "iopub.execute_input": "2022-05-03T11:59:14.464361Z",
          "iopub.status.busy": "2022-05-03T11:59:14.464003Z",
          "iopub.status.idle": "2022-05-03T11:59:14.470191Z",
          "shell.execute_reply": "2022-05-03T11:59:14.469392Z"
        },
        "papermill": {
          "duration": 0.060422,
          "end_time": "2022-05-03T11:59:14.472524",
          "exception": false,
          "start_time": "2022-05-03T11:59:14.412102",
          "status": "completed"
        },
        "tags": [],
        "id": "4d2a9f8b",
        "outputId": "3374c571-aff6-4faf-ec6b-519387d56eb3"
      },
      "outputs": [
        {
          "name": "stdout",
          "output_type": "stream",
          "text": [
            "Percentage of total students who received A grade after completing test preparation course: 9.776536312849162 %\n",
            "Percentage of total students who received A grade with no test preparation course: 2.64797507788162 %\n"
          ]
        }
      ],
      "source": [
        "CA=(35/358)*100\n",
        "NA=(17/642)*100\n",
        "print('Percentage of total students who received A grade after completing test preparation course:',CA,'%')\n",
        "print('Percentage of total students who received A grade with no test preparation course:',NA,'%')"
      ]
    },
    {
      "cell_type": "markdown",
      "id": "a8c160ac",
      "metadata": {
        "papermill": {
          "duration": 0.052777,
          "end_time": "2022-05-03T11:59:14.577965",
          "exception": false,
          "start_time": "2022-05-03T11:59:14.525188",
          "status": "completed"
        },
        "tags": [],
        "id": "a8c160ac"
      },
      "source": [
        "It can be clearly seen that students who completed test preparation course have performed better at math. completion of test preparation course results in higher chances of getting better grades."
      ]
    }
  ],
  "metadata": {
    "kernelspec": {
      "display_name": "Python 3",
      "language": "python",
      "name": "python3"
    },
    "language_info": {
      "codemirror_mode": {
        "name": "ipython",
        "version": 3
      },
      "file_extension": ".py",
      "mimetype": "text/x-python",
      "name": "python",
      "nbconvert_exporter": "python",
      "pygments_lexer": "ipython3",
      "version": "3.7.12"
    },
    "papermill": {
      "default_parameters": {},
      "duration": 18.687346,
      "end_time": "2022-05-03T11:59:15.348360",
      "environment_variables": {},
      "exception": null,
      "input_path": "__notebook__.ipynb",
      "output_path": "__notebook__.ipynb",
      "parameters": {},
      "start_time": "2022-05-03T11:58:56.661014",
      "version": "2.3.4"
    },
    "colab": {
      "name": "student-performance-analysis.ipynb",
      "provenance": [],
      "collapsed_sections": []
    }
  },
  "nbformat": 4,
  "nbformat_minor": 5
}